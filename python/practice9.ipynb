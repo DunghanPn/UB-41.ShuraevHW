{
 "cells": [
  {
   "cell_type": "code",
   "execution_count": 1,
   "id": "62a2e6c4-63fe-4b9b-abfa-43e986c85699",
   "metadata": {},
   "outputs": [
    {
     "name": "stdin",
     "output_type": "stream",
     "text": [
      "Введите натуральное число n (n > 1):  24\n"
     ]
    },
    {
     "name": "stdout",
     "output_type": "stream",
     "text": [
      "NO\n"
     ]
    }
   ],
   "source": [
    "#var 6 task 1\n",
    "def is_prime(n, divisor=None):\n",
    "    # Начинаем проверку делителей с 2\n",
    "    if divisor is None:\n",
    "        divisor = 2\n",
    "        \n",
    "    # Базовые условия для рекурсии\n",
    "    if n <= 2:\n",
    "        return n == 2  # 2 простое число\n",
    "    \n",
    "    if n % divisor == 0:\n",
    "        return False  # Если делится на divisor, то не простое\n",
    "    \n",
    "    if divisor * divisor > n:\n",
    "        return True  # Если divisor уже больше корня из n, значит n простое\n",
    "\n",
    "    return is_prime(n, divisor + 1)  # Проверяем следующий делитель\n",
    "\n",
    "# Пример использования\n",
    "n = int(input(\"Введите натуральное число n (n > 1): \"))\n",
    "if is_prime(n):\n",
    "    print(\"YES\")\n",
    "else:\n",
    "    print(\"NO\")"
   ]
  },
  {
   "cell_type": "code",
   "execution_count": 2,
   "id": "05f43dc9-cbbf-4414-9caa-a4e86d5a546e",
   "metadata": {},
   "outputs": [
    {
     "name": "stdout",
     "output_type": "stream",
     "text": [
      "Введите натуральные числа (введите 0 для завершения):\n"
     ]
    },
    {
     "name": "stdin",
     "output_type": "stream",
     "text": [
      " 2\n",
      " 45\n",
      " 1\n",
      " 2\n",
      " 344\n",
      " 5\n",
      " 25\n",
      " 3\n",
      " 0\n"
     ]
    },
    {
     "name": "stdout",
     "output_type": "stream",
     "text": [
      "Второй по величине элемент: 45\n"
     ]
    }
   ],
   "source": [
    "#var6(1) task 2\n",
    "def second_largest_recursive(numbers, largest=None, second_largest=None):\n",
    "    # Если последовательность пустая, возвращаем найденные значения\n",
    "    if not numbers:\n",
    "        return second_largest\n",
    "    \n",
    "    # Получаем текущее число из последовательности\n",
    "    current = numbers.pop(0)\n",
    "\n",
    "    # Если текущий элемент равен 0, заканчиваем\n",
    "    if current == 0:\n",
    "        return second_largest\n",
    "    \n",
    "    # Определяем наибольший и второй наибольший\n",
    "    if largest is None or current > largest:\n",
    "        second_largest = largest  # Предыдущее наибольшее становится вторым\n",
    "        largest = current          # Обновляем наибольшее\n",
    "    elif current > second_largest and current != largest:\n",
    "        second_largest = current   # Обновляем второй по величине\n",
    "    \n",
    "    # Рекурсивный вызов для обработки следующего числа\n",
    "    return second_largest_recursive(numbers, largest, second_largest)\n",
    "\n",
    "# Пример использования\n",
    "numbers = []\n",
    "print(\"Введите натуральные числа (введите 0 для завершения):\")\n",
    "while True:\n",
    "    num = int(input())\n",
    "    if num == 0:\n",
    "        break\n",
    "    numbers.append(num)\n",
    "\n",
    "second_largest = second_largest_recursive(numbers)\n",
    "if second_largest is not None:\n",
    "    print(\"Второй по величине элемент:\", second_largest)\n",
    "else:\n",
    "    print(\"В последовательности нет достаточного количества элементов.\")"
   ]
  },
  {
   "cell_type": "code",
   "execution_count": null,
   "id": "815ecbd5-1391-43e9-b15f-9956a92d188f",
   "metadata": {},
   "outputs": [],
   "source": []
  }
 ],
 "metadata": {
  "kernelspec": {
   "display_name": "Python 3 (ipykernel)",
   "language": "python",
   "name": "python3"
  },
  "language_info": {
   "codemirror_mode": {
    "name": "ipython",
    "version": 3
   },
   "file_extension": ".py",
   "mimetype": "text/x-python",
   "name": "python",
   "nbconvert_exporter": "python",
   "pygments_lexer": "ipython3",
   "version": "3.10.8"
  }
 },
 "nbformat": 4,
 "nbformat_minor": 5
}
