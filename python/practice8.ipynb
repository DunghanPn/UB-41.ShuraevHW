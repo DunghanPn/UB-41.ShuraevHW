{
 "cells": [
  {
   "cell_type": "code",
   "execution_count": 1,
   "id": "8f204858-e931-4e0c-bf6a-e63a249ed0e2",
   "metadata": {},
   "outputs": [
    {
     "name": "stdout",
     "output_type": "stream",
     "text": [
      "Случайная матрица:\n",
      "[[32 12 31 40 56]\n",
      " [11 28 84 79 83]\n",
      " [31 21 12 54 65]\n",
      " [ 5 17 44 98 86]\n",
      " [63 88 95 82 58]]\n",
      "Наибольшие элементы в каждой строке: [56 84 65 98 95]\n",
      "Наименьшие элементы в каждом столбце: [ 5 12 12 40 56]\n"
     ]
    }
   ],
   "source": [
    "#var6 task 1\n",
    "import numpy as np\n",
    "\n",
    "# Задаем размерность матрицы\n",
    "n = 5  # Например, 5x5 матрица\n",
    "\n",
    "# Генерируем случайную целочисленную квадратную матрицу\n",
    "matrix = np.random.randint(1, 101, size=(n, n))  # Значения от 1 до 100\n",
    "\n",
    "# Находим наибольший элемент в каждой строке\n",
    "max_in_rows = np.max(matrix, axis=1)\n",
    "\n",
    "# Находим наименьший элемент в каждом столбце\n",
    "min_in_columns = np.min(matrix, axis=0)\n",
    "\n",
    "# Вывод результатов\n",
    "print(\"Случайная матрица:\")\n",
    "print(matrix)\n",
    "print(\"Наибольшие элементы в каждой строке:\", max_in_rows)\n",
    "print(\"Наименьшие элементы в каждом столбце:\", min_in_columns)"
   ]
  },
  {
   "cell_type": "code",
   "execution_count": 9,
   "id": "d50db73c-2a7e-42c5-8a60-5008363b906c",
   "metadata": {},
   "outputs": [
    {
     "name": "stdout",
     "output_type": "stream",
     "text": [
      "Матрица до изменения:\n",
      "[[34 26 59 10 58]\n",
      " [11 76 86 19 41]\n",
      " [47 56 67 94 12]\n",
      " [99 98 93 22 15]\n",
      " [81 40 33  1  3]]\n",
      "Матрица после изменения:\n",
      "[[34 26 59 10 58]\n",
      " [11 76 86 19 41]\n",
      " [47 56 98 94 12]\n",
      " [99 67 93 22 15]\n",
      " [81 40 33  1  3]]\n",
      "Наибольший элемент: 98\n"
     ]
    }
   ],
   "source": [
    "#var6 task 2\n",
    "import numpy as np\n",
    "\n",
    "# Задаем размерность матрицы (нечетное N)\n",
    "N = 5  # Например, 5x5 матрица\n",
    "\n",
    "# Генерируем случайную целочисленную квадратную матрицу с различными элементами\n",
    "matrix = np.random.choice(range(1, 101), size=(N, N), replace=False)\n",
    "print('Матрица до изменения:')\n",
    "print(matrix)\n",
    "# Находим элементы главной и побочной диагоналей\n",
    "main_diagonal = [matrix[i][i] for i in range(N)]\n",
    "secondary_diagonal = [matrix[i][N - i - 1] for i in range(N)]\n",
    "\n",
    "# Объединяем оба списка диагональных элементов\n",
    "diagonal_elements = main_diagonal + secondary_diagonal\n",
    "\n",
    "# Находим наибольший элемент и его индекс\n",
    "max_element = max(diagonal_elements)\n",
    "max_index = diagonal_elements.index(max_element)\n",
    "\n",
    "# Находим позицию на матрице и пересечения диагоналей\n",
    "if max_index < N:\n",
    "    max_position = (max_index, max_index)  # Главная диагональ\n",
    "else:\n",
    "    max_position = (max_index - N, N - (max_index - N) - 1)  # Побочная диагональ\n",
    "\n",
    "# Элемент на пересечении диагоналей\n",
    "center_index = N // 2\n",
    "center_element = matrix[center_index][center_index]\n",
    "\n",
    "# Меняем местами\n",
    "matrix[max_position] = center_element\n",
    "matrix[center_index][center_index] = max_element\n",
    "\n",
    "# Выводим результаты\n",
    "print(\"Матрица после изменения:\")\n",
    "print(matrix)\n",
    "print(\"Наибольший элемент:\", max_element)"
   ]
  }
 ],
 "metadata": {
  "kernelspec": {
   "display_name": "Python 3 (ipykernel)",
   "language": "python",
   "name": "python3"
  },
  "language_info": {
   "codemirror_mode": {
    "name": "ipython",
    "version": 3
   },
   "file_extension": ".py",
   "mimetype": "text/x-python",
   "name": "python",
   "nbconvert_exporter": "python",
   "pygments_lexer": "ipython3",
   "version": "3.10.8"
  }
 },
 "nbformat": 4,
 "nbformat_minor": 5
}
